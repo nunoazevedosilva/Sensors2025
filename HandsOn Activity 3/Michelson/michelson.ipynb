{
 "cells": [
  {
   "cell_type": "code",
   "execution_count": 1,
   "metadata": {},
   "outputs": [],
   "source": [
    "import numpy as np\n",
    "import matplotlib.pyplot as plt"
   ]
  },
  {
   "cell_type": "code",
   "execution_count": 2,
   "metadata": {},
   "outputs": [],
   "source": [
    "filename = r\"Michelson3_SR500K_AqT50ms.npy\"\n",
    "experimental_data = np.load(filename, allow_pickle = True)\n",
    "stimulus = experimental_data[0]\n",
    "data_runA = experimental_data[1][0]\n",
    "data_runB = experimental_data[1][1]\n",
    "data_runC = experimental_data[1][2]"
   ]
  },
  {
   "cell_type": "code",
   "execution_count": 3,
   "metadata": {},
   "outputs": [],
   "source": [
    "data_sensorA = []\n",
    "for s in data_runA:\n",
    "    data_sensorA.append(s[:20000])\n",
    "data_sensorA = np.array(data_sensorA)\n",
    "\n",
    "data_sensorB = []\n",
    "for s in data_runB:\n",
    "    data_sensorB.append(s[:20000])\n",
    "data_sensorB = np.array(data_sensorB)\n",
    "\n",
    "data_sensorC = []\n",
    "for s in data_runC:\n",
    "    data_sensorC.append(s[:20000])\n",
    "data_sensorC = np.array(data_sensorC)"
   ]
  },
  {
   "cell_type": "code",
   "execution_count": 79,
   "metadata": {},
   "outputs": [],
   "source": [
    "time = np.linspace(0,0.05,int(20000/4))\n",
    "np.savetxt('time.txt', time)\n",
    "np.savetxt( 'stimulus.txt', stimulus * 532 * 3 / 4.11)\n",
    "np.savetxt('data_runA.txt', data_sensorA[:,::4])\n",
    "np.savetxt('data_runB.txt', data_sensorB[:,::4])\n",
    "np.savetxt('data_runC.txt', data_sensorC[:,::4])"
   ]
  },
  {
   "cell_type": "code",
   "execution_count": 80,
   "metadata": {},
   "outputs": [
    {
     "data": {
      "text/plain": [
       "(51, 20000)"
      ]
     },
     "execution_count": 80,
     "metadata": {},
     "output_type": "execute_result"
    }
   ],
   "source": [
    "data_sensorA.shape"
   ]
  },
  {
   "cell_type": "code",
   "execution_count": 81,
   "metadata": {},
   "outputs": [],
   "source": [
    "time = np.loadtxt('time.txt')\n",
    "stimulus = np.loadtxt('stimulus.txt')\n",
    "data_sensorA = np.loadtxt('data_runA.txt')\n",
    "data_sensorB = np.loadtxt('data_runB.txt')\n",
    "data_sensorC = np.loadtxt('data_runC.txt')"
   ]
  },
  {
   "cell_type": "code",
   "execution_count": 82,
   "metadata": {},
   "outputs": [
    {
     "data": {
      "text/plain": [
       "array([   0.        ,   38.83211679,   77.66423358,  116.49635036,\n",
       "        155.32846715,  194.16058394,  232.99270073,  271.82481752,\n",
       "        310.65693431,  349.48905109,  388.32116788,  427.15328467,\n",
       "        465.98540146,  504.81751825,  543.64963504,  582.48175182,\n",
       "        621.31386861,  660.1459854 ,  698.97810219,  737.81021898,\n",
       "        776.64233577,  815.47445255,  854.30656934,  893.13868613,\n",
       "        931.97080292,  970.80291971, 1009.6350365 , 1048.46715328,\n",
       "       1087.29927007, 1126.13138686, 1164.96350365, 1203.79562044,\n",
       "       1242.62773723, 1281.45985401, 1320.2919708 , 1359.12408759,\n",
       "       1397.95620438, 1436.78832117, 1475.62043796, 1514.45255474,\n",
       "       1553.28467153, 1592.11678832, 1630.94890511, 1669.7810219 ,\n",
       "       1708.61313869, 1747.44525547, 1786.27737226, 1825.10948905,\n",
       "       1863.94160584, 1902.77372263, 1941.60583942])"
      ]
     },
     "execution_count": 82,
     "metadata": {},
     "output_type": "execute_result"
    }
   ],
   "source": [
    "stimulus"
   ]
  },
  {
   "cell_type": "code",
   "execution_count": 83,
   "metadata": {},
   "outputs": [
    {
     "data": {
      "application/vnd.jupyter.widget-view+json": {
       "model_id": "93da1c2cb08141f5a3d9a20bf3dca72a",
       "version_major": 2,
       "version_minor": 0
      },
      "text/plain": [
       "Canvas(toolbar=Toolbar(toolitems=[('Home', 'Reset original view', 'home', 'home'), ('Back', 'Back to previous …"
      ]
     },
     "metadata": {},
     "output_type": "display_data"
    },
    {
     "data": {
      "text/plain": [
       "<matplotlib.legend.Legend at 0x21cabf722b0>"
      ]
     },
     "execution_count": 83,
     "metadata": {},
     "output_type": "execute_result"
    }
   ],
   "source": [
    "##index of stimulus to plot\n",
    "index_s=3\n",
    "\n",
    "fig,ax = plt.subplots(1,1,figsize=[7,3])\n",
    "ax.plot(time, data_sensorA[index_s], label=f'Sensor 1')\n",
    "ax.plot(time, data_sensorB[index_s], label=f'Sensor 2')\n",
    "ax.plot(time, data_sensorC[index_s], label=f'Sensor 3')\n",
    "ax.set_xlabel(r'time($s$)')\n",
    "ax.set_ylabel(r'E($V$)')\n",
    "ax.legend()"
   ]
  },
  {
   "cell_type": "code",
   "execution_count": 84,
   "metadata": {},
   "outputs": [
    {
     "data": {
      "application/vnd.jupyter.widget-view+json": {
       "model_id": "28f59344468f4c85ac7958d519e5e665",
       "version_major": 2,
       "version_minor": 0
      },
      "text/plain": [
       "Canvas(toolbar=Toolbar(toolitems=[('Home', 'Reset original view', 'home', 'home'), ('Back', 'Back to previous …"
      ]
     },
     "metadata": {},
     "output_type": "display_data"
    }
   ],
   "source": [
    "#### hint: you may utilize axvline to plot a vertical line\n",
    "\n",
    "fig,ax = plt.subplots(3,1,figsize=[8,8])\n",
    "\n",
    "sensor_name_list = ['Sensor A', 'Sensor B', 'Sensor C']\n",
    "\n",
    "for i,data in enumerate([data_sensorA[index_s], data_sensorB[index_s], data_sensorC[index_s]]):\n",
    "\n",
    "    ax[i].set_title(sensor_name_list[i] + r', Signal for $s_i=${}'.format(stimulus[index_s]))\n",
    "    ax[i].hist(data,bins=20,ec='k')\n",
    "    ax[i].axvline(np.mean(data),label='Mean',color='r')\n",
    "    ax[i].axvline(np.median(data),label='Median',color='seagreen')\n",
    "\n",
    "    ax[i].set_xlabel(r'$E(V)$')\n",
    "    ax[i].set_ylabel(r'Counts')\n",
    "    ax[i].legend()\n",
    "\n",
    "\n",
    "fig.tight_layout()"
   ]
  },
  {
   "cell_type": "code",
   "execution_count": 23,
   "metadata": {},
   "outputs": [
    {
     "ename": "TypeError",
     "evalue": "Mismatch between array dtype ('object') and format specifier ('%.18e')",
     "output_type": "error",
     "traceback": [
      "\u001b[1;31m---------------------------------------------------------------------------\u001b[0m",
      "\u001b[1;31mTypeError\u001b[0m                                 Traceback (most recent call last)",
      "\u001b[1;32mc:\\Users\\nunoa\\Anaconda2\\envs\\py36\\lib\\site-packages\\numpy\\lib\\npyio.py\u001b[0m in \u001b[0;36msavetxt\u001b[1;34m(fname, X, fmt, delimiter, newline, header, footer, comments, encoding)\u001b[0m\n\u001b[0;32m   1423\u001b[0m                 \u001b[1;32mtry\u001b[0m\u001b[1;33m:\u001b[0m\u001b[1;33m\u001b[0m\u001b[1;33m\u001b[0m\u001b[0m\n\u001b[1;32m-> 1424\u001b[1;33m                     \u001b[0mv\u001b[0m \u001b[1;33m=\u001b[0m \u001b[0mformat\u001b[0m \u001b[1;33m%\u001b[0m \u001b[0mtuple\u001b[0m\u001b[1;33m(\u001b[0m\u001b[0mrow\u001b[0m\u001b[1;33m)\u001b[0m \u001b[1;33m+\u001b[0m \u001b[0mnewline\u001b[0m\u001b[1;33m\u001b[0m\u001b[1;33m\u001b[0m\u001b[0m\n\u001b[0m\u001b[0;32m   1425\u001b[0m                 \u001b[1;32mexcept\u001b[0m \u001b[0mTypeError\u001b[0m\u001b[1;33m:\u001b[0m\u001b[1;33m\u001b[0m\u001b[1;33m\u001b[0m\u001b[0m\n",
      "\u001b[1;31mTypeError\u001b[0m: only size-1 arrays can be converted to Python scalars",
      "\nDuring handling of the above exception, another exception occurred:\n",
      "\u001b[1;31mTypeError\u001b[0m                                 Traceback (most recent call last)",
      "\u001b[1;32m<ipython-input-23-34ced6e416a7>\u001b[0m in \u001b[0;36m<module>\u001b[1;34m\u001b[0m\n\u001b[0;32m      1\u001b[0m \u001b[0mnp\u001b[0m\u001b[1;33m.\u001b[0m\u001b[0msavetxt\u001b[0m\u001b[1;33m(\u001b[0m \u001b[1;34m'stimulus.txt'\u001b[0m\u001b[1;33m,\u001b[0m \u001b[0mvoltage\u001b[0m\u001b[1;33m)\u001b[0m\u001b[1;33m\u001b[0m\u001b[1;33m\u001b[0m\u001b[0m\n\u001b[1;32m----> 2\u001b[1;33m \u001b[0mnp\u001b[0m\u001b[1;33m.\u001b[0m\u001b[0msavetxt\u001b[0m\u001b[1;33m(\u001b[0m\u001b[1;34m'data_runA.txt'\u001b[0m\u001b[1;33m,\u001b[0m \u001b[0mexperimental_data\u001b[0m\u001b[1;33m[\u001b[0m\u001b[1;36m1\u001b[0m\u001b[1;33m]\u001b[0m\u001b[1;33m[\u001b[0m\u001b[1;36m0\u001b[0m\u001b[1;33m]\u001b[0m\u001b[1;33m)\u001b[0m\u001b[1;33m\u001b[0m\u001b[1;33m\u001b[0m\u001b[0m\n\u001b[0m\u001b[0;32m      3\u001b[0m \u001b[0mnp\u001b[0m\u001b[1;33m.\u001b[0m\u001b[0msavetxt\u001b[0m\u001b[1;33m(\u001b[0m\u001b[1;34m'data_runB.txt'\u001b[0m\u001b[1;33m,\u001b[0m \u001b[0mexperimental_data\u001b[0m\u001b[1;33m[\u001b[0m\u001b[1;36m1\u001b[0m\u001b[1;33m]\u001b[0m\u001b[1;33m[\u001b[0m\u001b[1;36m1\u001b[0m\u001b[1;33m]\u001b[0m\u001b[1;33m)\u001b[0m\u001b[1;33m\u001b[0m\u001b[1;33m\u001b[0m\u001b[0m\n\u001b[0;32m      4\u001b[0m \u001b[0mnp\u001b[0m\u001b[1;33m.\u001b[0m\u001b[0msavetxt\u001b[0m\u001b[1;33m(\u001b[0m\u001b[1;34m'data_runC.txt'\u001b[0m\u001b[1;33m,\u001b[0m \u001b[0mexperimental_data\u001b[0m\u001b[1;33m[\u001b[0m\u001b[1;36m1\u001b[0m\u001b[1;33m]\u001b[0m\u001b[1;33m[\u001b[0m\u001b[1;36m2\u001b[0m\u001b[1;33m]\u001b[0m\u001b[1;33m)\u001b[0m\u001b[1;33m\u001b[0m\u001b[1;33m\u001b[0m\u001b[0m\n",
      "\u001b[1;32m<__array_function__ internals>\u001b[0m in \u001b[0;36msavetxt\u001b[1;34m(*args, **kwargs)\u001b[0m\n",
      "\u001b[1;32mc:\\Users\\nunoa\\Anaconda2\\envs\\py36\\lib\\site-packages\\numpy\\lib\\npyio.py\u001b[0m in \u001b[0;36msavetxt\u001b[1;34m(fname, X, fmt, delimiter, newline, header, footer, comments, encoding)\u001b[0m\n\u001b[0;32m   1426\u001b[0m                     raise TypeError(\"Mismatch between array dtype ('%s') and \"\n\u001b[0;32m   1427\u001b[0m                                     \u001b[1;34m\"format specifier ('%s')\"\u001b[0m\u001b[1;33m\u001b[0m\u001b[1;33m\u001b[0m\u001b[0m\n\u001b[1;32m-> 1428\u001b[1;33m                                     % (str(X.dtype), format))\n\u001b[0m\u001b[0;32m   1429\u001b[0m                 \u001b[0mfh\u001b[0m\u001b[1;33m.\u001b[0m\u001b[0mwrite\u001b[0m\u001b[1;33m(\u001b[0m\u001b[0mv\u001b[0m\u001b[1;33m)\u001b[0m\u001b[1;33m\u001b[0m\u001b[1;33m\u001b[0m\u001b[0m\n\u001b[0;32m   1430\u001b[0m \u001b[1;33m\u001b[0m\u001b[0m\n",
      "\u001b[1;31mTypeError\u001b[0m: Mismatch between array dtype ('object') and format specifier ('%.18e')"
     ]
    }
   ],
   "source": [
    "np.savetxt( 'stimulus.txt', voltage)\n",
    "np.savetxt('data_runA.txt', experimental_data[1][0])\n",
    "np.savetxt('data_runB.txt', experimental_data[1][1])\n",
    "np.savetxt('data_runC.txt', experimental_data[1][2])"
   ]
  },
  {
   "cell_type": "code",
   "execution_count": null,
   "metadata": {},
   "outputs": [],
   "source": [
    "time = np.loadtxt('time.txt')\n",
    "stimulus = np.loadtxt('stimulus.txt')\n",
    "data_runA = np.loadtxt('data_runA.txt')\n",
    "data_runB = np.loadtxt('data_runB.txt')\n",
    "data_runC = np.loadtxt('data_runC.txt')"
   ]
  },
  {
   "cell_type": "code",
   "execution_count": 4,
   "metadata": {},
   "outputs": [
    {
     "data": {
      "application/vnd.jupyter.widget-view+json": {
       "model_id": "1c317f17555c4a259b1817d767be351f",
       "version_major": 2,
       "version_minor": 0
      },
      "text/plain": [
       "Canvas(toolbar=Toolbar(toolitems=[('Home', 'Reset original view', 'home', 'home'), ('Back', 'Back to previous …"
      ]
     },
     "metadata": {},
     "output_type": "display_data"
    },
    {
     "ename": "NameError",
     "evalue": "name 'pd_mean' is not defined",
     "output_type": "error",
     "traceback": [
      "\u001b[1;31m---------------------------------------------------------------------------\u001b[0m",
      "\u001b[1;31mNameError\u001b[0m                                 Traceback (most recent call last)",
      "\u001b[1;32m<ipython-input-4-892204eb5d7a>\u001b[0m in \u001b[0;36m<module>\u001b[1;34m\u001b[0m\n\u001b[0;32m      3\u001b[0m \u001b[1;33m\u001b[0m\u001b[0m\n\u001b[0;32m      4\u001b[0m \u001b[0max\u001b[0m\u001b[1;33m.\u001b[0m\u001b[0mset_title\u001b[0m\u001b[1;33m(\u001b[0m\u001b[1;34mr\"$V_{PD}$ vs $\\Delta x$\"\u001b[0m\u001b[1;33m,\u001b[0m \u001b[0mfontsize\u001b[0m \u001b[1;33m=\u001b[0m \u001b[1;36m18\u001b[0m\u001b[1;33m)\u001b[0m\u001b[1;33m\u001b[0m\u001b[1;33m\u001b[0m\u001b[0m\n\u001b[1;32m----> 5\u001b[1;33m \u001b[1;32mfor\u001b[0m \u001b[0mrun\u001b[0m \u001b[1;32min\u001b[0m \u001b[0mrange\u001b[0m\u001b[1;33m(\u001b[0m\u001b[0mlen\u001b[0m\u001b[1;33m(\u001b[0m\u001b[0mpd_mean\u001b[0m\u001b[1;33m)\u001b[0m\u001b[1;33m)\u001b[0m\u001b[1;33m:\u001b[0m\u001b[1;33m\u001b[0m\u001b[1;33m\u001b[0m\u001b[0m\n\u001b[0m\u001b[0;32m      6\u001b[0m     \u001b[0max\u001b[0m\u001b[1;33m.\u001b[0m\u001b[0merrorbar\u001b[0m\u001b[1;33m(\u001b[0m\u001b[0mvoltage\u001b[0m \u001b[1;33m*\u001b[0m \u001b[1;36m532\u001b[0m \u001b[1;33m*\u001b[0m \u001b[1;36m3\u001b[0m \u001b[1;33m/\u001b[0m \u001b[1;36m4.11\u001b[0m \u001b[1;33m,\u001b[0m \u001b[0mpd_mean\u001b[0m\u001b[1;33m[\u001b[0m\u001b[0mrun\u001b[0m\u001b[1;33m]\u001b[0m\u001b[1;33m,\u001b[0m \u001b[0mpd_std\u001b[0m\u001b[1;33m[\u001b[0m\u001b[0mrun\u001b[0m\u001b[1;33m]\u001b[0m\u001b[1;33m,\u001b[0m\u001b[0mcapsize\u001b[0m\u001b[1;33m=\u001b[0m\u001b[1;36m3\u001b[0m\u001b[1;33m,\u001b[0m \u001b[0mlabel\u001b[0m \u001b[1;33m=\u001b[0m \u001b[1;34mf\"Run {run + 1}\"\u001b[0m\u001b[1;33m,\u001b[0m \u001b[0mmarkeredgecolor\u001b[0m\u001b[1;33m=\u001b[0m\u001b[1;34m'k'\u001b[0m\u001b[1;33m,\u001b[0m\u001b[0mls\u001b[0m \u001b[1;33m=\u001b[0m \u001b[1;34m\"--\"\u001b[0m\u001b[1;33m,\u001b[0m \u001b[0mlw\u001b[0m\u001b[1;33m=\u001b[0m\u001b[1;36m1\u001b[0m\u001b[1;33m,\u001b[0m\u001b[0mmarker\u001b[0m \u001b[1;33m=\u001b[0m \u001b[1;34m\"o\"\u001b[0m\u001b[1;33m)\u001b[0m\u001b[1;33m\u001b[0m\u001b[1;33m\u001b[0m\u001b[0m\n\u001b[0;32m      7\u001b[0m \u001b[1;33m\u001b[0m\u001b[0m\n",
      "\u001b[1;31mNameError\u001b[0m: name 'pd_mean' is not defined"
     ]
    }
   ],
   "source": [
    "%matplotlib widget\n",
    "fig, ax = plt.subplots(figsize=[10,5])\n",
    "\n",
    "ax.set_title(r\"$V_{PD}$ vs $\\Delta x$\", fontsize = 18)\n",
    "for run in range(len(pd_mean)):\n",
    "    ax.errorbar(voltage * 532 * 3 / 4.11 , pd_mean[run], pd_std[run],capsize=3, label = f\"Run {run + 1}\", markeredgecolor='k',ls = \"--\", lw=1,marker = \"o\")\n",
    "\n",
    "ax.set_xlabel(r\"$\\Delta x$ (nm)\", fontsize = 14)\n",
    "ax.set_ylabel(r\"$V_{PD}$\", fontsize = 14)\n",
    "\n",
    "ax.legend()\n",
    "ax.spines['top'].set_visible(False)\n",
    "ax.spines['right'].set_visible(False)\n",
    "fig.tight_layout()"
   ]
  },
  {
   "cell_type": "code",
   "execution_count": 52,
   "metadata": {},
   "outputs": [
    {
     "data": {
      "text/plain": [
       "4.114999999999999"
      ]
     },
     "execution_count": 52,
     "metadata": {},
     "output_type": "execute_result"
    }
   ],
   "source": [
    "4.204 - 0.089"
   ]
  },
  {
   "cell_type": "code",
   "execution_count": null,
   "metadata": {},
   "outputs": [],
   "source": []
  }
 ],
 "metadata": {
  "kernelspec": {
   "display_name": "py36",
   "language": "python",
   "name": "python3"
  },
  "language_info": {
   "codemirror_mode": {
    "name": "ipython",
    "version": 3
   },
   "file_extension": ".py",
   "mimetype": "text/x-python",
   "name": "python",
   "nbconvert_exporter": "python",
   "pygments_lexer": "ipython3",
   "version": "3.6.12"
  }
 },
 "nbformat": 4,
 "nbformat_minor": 2
}
