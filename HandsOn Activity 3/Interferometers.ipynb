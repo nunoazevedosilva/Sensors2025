{
 "cells": [
  {
   "cell_type": "markdown",
   "id": "85065b52",
   "metadata": {},
   "source": [
    "# Sensors and Signal Analysis 2025\n",
    "Author: Nuno Azevedo Silva\n",
    "\n",
    "### Hands-on activity 3\n",
    "\n",
    "This notebook supports the second Hands-on activity where the students will explore 3 types of interference phenomena:\n",
    "\n",
    "1. Young Double Slit - Explore the emergence of the fringes and their position;\n",
    "2. Michelson - Determine path distances and compute a transfer function;\n",
    "3. Mach-Zehnder - Holography and Wavefront Reconstruction;\n",
    "\n",
    "The idea is that you get familiarized with the interference of waves, what can you sense, and how you interrogate it as a sensor."
   ]
  },
  {
   "cell_type": "markdown",
   "id": "6213cb88",
   "metadata": {},
   "source": [
    "## 1. Young Double Slit\n",
    "\n",
    "In the Young's Double Slit experiment we have a laser that is divided in two wavefronts by a double slit. Each of the slits will act as a cylindrical wave source, which will interfere at the observation plane. The temporal coherence (necessary for interference) is warranted by the wavefront division mechanism (the double slit) as long as the distance between the slits is below the spatial coherence length.\n",
    "\n",
    "<center>\n",
    "<img src=\"Figures/slit1.png\" class=\"bg-primary\" height=\"200px\">\n",
    "</center>\n",
    "\n",
    "In the lectures we derived an expression for the distance between consecutive fringes $\\Delta y$ for $L>>d$ as\n",
    "\n",
    "$\\Delta y = \\frac{\\lambda L}{d} $\n",
    "\n",
    "where $L$ is the distance between the slits and the observation plane, $\\lambda$ the wavelength, and $d$ the distance of the slits.\n",
    "\n",
    "In the laboratory we did the following experiment: a laser source (with a given wavelength, which will be varied) incident in a double slit ($d=0.05mm$) generates a fringe pattern which is imaged at the camera plane ($L=60cm$).\n",
    "\n",
    "<center>\n",
    "<img src=\"Figures/dslit.png\" class=\"bg-primary\" height=\"400px\">\n",
    "</center>\n",
    "\n",
    "The obtained data is suplied in two images 'Laser1_doubleslit_d05mm_L60cm.png' and 'Laser2_doubleslit_d05mm_L60cm.png' containing distinc images taken by the camera C1 for two distinct wavelengths.\n",
    "\n",
    "1. Estimate the wavelenght of the laser by fitting the data;\n",
    "2. How could you utilize the double slit configuration as a sensor?"
   ]
  },
  {
   "cell_type": "code",
   "execution_count": 23,
   "id": "6de48bff",
   "metadata": {},
   "outputs": [
    {
     "data": {
      "application/vnd.jupyter.widget-view+json": {
       "model_id": "69be4024f486424e8f9f428dfcbc6d0c",
       "version_major": 2,
       "version_minor": 0
      },
      "text/plain": [
       "Canvas(toolbar=Toolbar(toolitems=[('Home', 'Reset original view', 'home', 'home'), ('Back', 'Back to previous …"
      ]
     },
     "metadata": {},
     "output_type": "display_data"
    }
   ],
   "source": [
    "import cv2\n",
    "import numpy as np\n",
    "import matplotlib.pyplot as plt\n",
    "from scipy.signal import find_peaks\n",
    "\n",
    "###Read Data \n",
    "\n",
    "image_path    = 'double_slit//Laser2_doubleslit_d05mm_L60cm.png'     # Image filename - there are two figures, Laser1_... and Laser2_...\n",
    "pixel_pitch   = 3.45e-6         # 3.45 micrometers in meters\n",
    "L             = 0.60            # Distance from slits to camera [m]\n",
    "d             = 0.50e-3         # Slit separation [m]\n",
    "x_center      = 0               # \"Center column\" for your line profile (pixels) - you can choose this\n",
    "profile_width = 10             # How many columns to average over (pixels)\n",
    "\n",
    "# --- 1. Load image (grayscale) ---\n",
    "img = cv2.imread(image_path, cv2.IMREAD_GRAYSCALE)\n",
    "img_f = img.astype(np.float64)\n",
    "\n",
    "# Get image dimensions\n",
    "height, width = img_f.shape\n",
    "\n",
    "# We will divide it at center and integrate a width corresponding to the profile_width in pixels defined above\n",
    "center_col = width // 2 + x_center\n",
    "\n",
    "col_start = center_col - profile_width // 2\n",
    "col_end   = center_col + profile_width // 2\n",
    "\n",
    "# --- 2. Extract and average vertical line profile around x=0 ---\n",
    "line_profile = np.mean(img_f[:, col_start:col_end], axis=1)\n",
    "\n",
    "\n",
    "# --- 3. Display the results ---\n",
    "fig, ax = plt.subplots(1,2, figsize=[10,5])\n",
    "\n",
    "ax[0].imshow(np.transpose(img_f), cmap='Greys')\n",
    "ax[0].axhline(col_start, ls='--', color='r')\n",
    "ax[0].axhline(col_end, ls='--', color='r')\n",
    "ax[0].set_xlabel('Pixel (vertical coordinate)')\n",
    "ax[0].set_ylabel('Pixel (horizontal coordinate)')\n",
    "ax[0].set_title('Detected Profile and integration region')\n",
    "\n",
    "\n",
    "ax[1].plot(line_profile, label='Line Profile')\n",
    "ax[1].set_xlabel('Pixel (vertical coordinate)')\n",
    "ax[1].set_ylabel('Intensity')\n",
    "ax[1].legend()\n",
    "ax[1].set_title('Vertical Line Profile and Detected Peaks')\n",
    "fig.tight_layout()\n",
    "\n"
   ]
  },
  {
   "cell_type": "code",
   "execution_count": 25,
   "id": "5e71eea3",
   "metadata": {},
   "outputs": [],
   "source": [
    "\n",
    "# --- 4. Find peaks in the line profile after applying a moving mean to smooth data --- and display the results\n",
    "\n",
    "# --- 5. Measure the fringe spacing in pixels and use the double-slit formula: lambda = (Delta y * d) / L ---\n",
    "\n",
    "# Convert that spacing to meters:\n",
    "\n",
    "# Delta y = avg fringe spacing on the screen\n",
    "# d = slit separation, L = distance from slits to camera\n",
    "\n",
    "# Convert to nanometers for a more typical scale:\n",
    "\n"
   ]
  },
  {
   "cell_type": "markdown",
   "id": "cf352c35",
   "metadata": {
    "vscode": {
     "languageId": "plaintext"
    }
   },
   "source": [
    "## 2. Michelson Interferometer\n",
    "\n",
    "During the lectures we saw that a Michelson Interferometer can sense a phase difference in one of the paths, which is translated into a varying intensity at the photodetector (and power, if integrated in the photodetector area).\n",
    "\n",
    "In the following experimental setup we will try to obtain the response of the interferometer as we vary the lenght of one of the paths, which is achieved in controllable manner using a piezo driven microscopic stage (by an external voltage).\n",
    "\n",
    "<center>\n",
    "<img src=\"Figures/mich.png\" class=\"bg-primary\" height=\"400px\"> <img src=\"Figures/mich1.png\" class=\"bg-primary\" height=\"400px\">\n",
    "</center>\n",
    "\n",
    "By varying the distance we see the following behavior:\n",
    "\n",
    "<center>\n",
    "<img src=\"Figures/michelson_gif.gif\" class=\"bg-primary\" height=\"400px\"> \n",
    "</center>\n",
    "\n",
    "which filtered with the iris will lead to the expected oscillatory pattern.\n",
    "\n",
    "We acquired in the laboratory some data in a familiar format to that utilized in Activity 2 notebook - for each varying path distance (saved under stimulus.txt) we recorded 50ms signal at the photodetector. We also did 3 runs, with a difference of around 2 minutes."
   ]
  },
  {
   "cell_type": "code",
   "execution_count": 22,
   "id": "cf2cce25",
   "metadata": {},
   "outputs": [
    {
     "data": {
      "application/vnd.jupyter.widget-view+json": {
       "model_id": "5d7c752f5e9d4735b6af1c123c251972",
       "version_major": 2,
       "version_minor": 0
      },
      "text/plain": [
       "Canvas(toolbar=Toolbar(toolitems=[('Home', 'Reset original view', 'home', 'home'), ('Back', 'Back to previous …"
      ]
     },
     "metadata": {},
     "output_type": "display_data"
    },
    {
     "data": {
      "text/plain": [
       "<matplotlib.legend.Legend at 0x2a306577c18>"
      ]
     },
     "execution_count": 22,
     "metadata": {},
     "output_type": "execute_result"
    }
   ],
   "source": [
    "time = np.loadtxt('Michelson/time.txt')\n",
    "stimulus = np.loadtxt('Michelson/stimulus.txt')\n",
    "data_sensorA = np.loadtxt('Michelson/data_runA.txt')\n",
    "data_sensorB = np.loadtxt('Michelson/data_runB.txt')\n",
    "data_sensorC = np.loadtxt('Michelson/data_runC.txt')\n",
    "\n",
    "##index of stimulus to plot\n",
    "index_s=3\n",
    "\n",
    "fig,ax = plt.subplots(1,1,figsize=[7,3])\n",
    "ax.plot(time, data_sensorA[index_s], label=f'Sensor 1')\n",
    "ax.plot(time, data_sensorB[index_s], label=f'Sensor 2')\n",
    "ax.plot(time, data_sensorC[index_s], label=f'Sensor 3')\n",
    "ax.set_xlabel(r'time($s$)')\n",
    "ax.set_ylabel(r'V_{PD}($V$)')\n",
    "ax.legend()"
   ]
  },
  {
   "cell_type": "markdown",
   "id": "0d4fc9c6",
   "metadata": {},
   "source": [
    "Exercise:\n",
    "\n",
    "1. Construct the transfer function for such distance sensor. Construct one for each of the runs;\n",
    "2. Analyze the sensistivity of the sensor and determine the maximum of sensitivity for each run;\n",
    "3. What can you conclude regarding the sensitivity, i.e. what is the minimum scale of deformations that you think you can measure with this? And about the varying stability of this sensor?"
   ]
  },
  {
   "cell_type": "code",
   "execution_count": null,
   "id": "de6c1fd3",
   "metadata": {},
   "outputs": [],
   "source": [
    "##"
   ]
  },
  {
   "cell_type": "markdown",
   "id": "99ef75b0",
   "metadata": {},
   "source": [
    "## 3. Mach-Zenhder interferometer\n",
    "\n",
    "When the beam is expanded, we can use an angle between two beams to probe its wavefront. This methodology - digital **digital off-axis holography** may also be utilized as a sensor in multiple manners (e.g. detection of tiny spatial distributions of index of refraction, such as gas sensing, curvature of transparent objects, birefringence).\n",
    "\n",
    "In this activity, we will explore how a Mach–Zehnder interferometer can be used to perform **digital off-axis holography**. A Mach–Zehnder interferometer splits a coherent beam (e.g., from a laser) into two separate arms—an **object arm** and a **reference arm**—and then recombines them, producing interference fringes when detected by an imaging sensor. By carefully arranging the geometry so that the reference beam makes a small angle with respect to the object beam, we create an **off-axis configuration**. \n",
    "\n",
    "<center>\n",
    "<img src=\"Figures/mz.png\" class=\"bg-primary\" height=\"400px\"> \n",
    "</center>\n",
    "\n",
    "This off-axis arrangement is what enables digital holography: when we record the resulting interferogram, we can numerically retrieve the amplitude and phase of the object wavefront.\n",
    "\n",
    "1. **Object Beam  $E_3$**  \n",
    "   This beam passes through or reflects from the sample (or object). As shown in the figure, you may insert an object in the path where \\( E_3 \\) propagates. Any phase changes or modifications to the beam caused by the object are carried into the final interference pattern.\n",
    "\n",
    "2. **Reference Beam $E_4$**  \n",
    "   The reference beam provides a well-defined phase and amplitude profile—essentially serving as a “clean” wavefront for comparison. When the reference beam is recombined with the object beam, the recorded interference reveals both the amplitude and phase information of \\( E_3 \\) relative to \\( E_4 \\).\n",
    "\n",
    "3. **Off-Axis Geometry**  \n",
    "   To retrieve the hologram digitally, we introduce a small angle between the reference beam and the object beam. This slight angular separation shifts the interference fringes in space, allowing us to separate the real and virtual images in the spatial-frequency domain after we perform a Fourier transform on the recorded pattern.\n",
    "\n",
    "4. **Digital Reconstruction**  \n",
    "   Once we record the interferogram with a camera, we use numerical methods—Fourier transforms and filtering—to extract the complex wavefield of the object beam. By doing so, we can reconstruct the object’s amplitude and phase distribution, forming the basis for **digital holographic imaging**.\n",
    "\n",
    "In this activity we supply some experimental data obtained with the setup above, in figures **profile_x.png** and **interference_x.png** (x=1,2,3) of the folder MZ. Your task is to reconstruct the complex field (i.e. intensity profile and phase) for each of the field.\n",
    "\n",
    "We will start by displaying the profile, the interference, and the fourier transform of the interference.\n"
   ]
  },
  {
   "cell_type": "code",
   "execution_count": 19,
   "id": "db59d575",
   "metadata": {},
   "outputs": [
    {
     "data": {
      "application/vnd.jupyter.widget-view+json": {
       "model_id": "9546c38dbe8b45a99ccfae2a9cd4dec5",
       "version_major": 2,
       "version_minor": 0
      },
      "text/plain": [
       "Canvas(toolbar=Toolbar(toolitems=[('Home', 'Reset original view', 'home', 'home'), ('Back', 'Back to previous …"
      ]
     },
     "metadata": {},
     "output_type": "display_data"
    }
   ],
   "source": [
    "%matplotlib widget\n",
    "import numpy as np\n",
    "import matplotlib.pyplot as plt\n",
    "from matplotlib.widgets import Slider\n",
    "from matplotlib.patches import Circle\n",
    "from skimage.io import imread\n",
    "\n",
    "# =============================================================================\n",
    "# Load Images and Prepare Data\n",
    "# =============================================================================\n",
    "# Load the interference (interference_x.png) and background (image_x.png) images.\n",
    "interferogram = imread('MZ/interference_1.png',as_gray=True).astype(np.float32)\n",
    "profile = imread('MZ/profile_1.png',as_gray=True).astype(np.float32)\n",
    "\n",
    "\n",
    "# Compute the Fourier transform of the hologram and shift zero-frequency to center.\n",
    "FT_hologram = np.fft.fftshift(np.fft.fft2(interferogram))\n",
    "FT_mag = np.abs(FT_hologram)\n",
    "# For visualization use a logarithmic scale.\n",
    "FT_log = np.log(1 + FT_mag)\n",
    "\n",
    "# Dimensions of the image.\n",
    "nx, ny = interferogram.shape\n",
    "\n",
    "# Create spatial grids (used later for phase calculations if needed).\n",
    "Y, X = np.indices((nx, ny))\n",
    "\n",
    "fig, ax = plt.subplots(1, 3, figsize=(10, 4))\n",
    "\n",
    "# Middle: Display the interference image.\n",
    "im1 = ax[0].imshow(profile, cmap='gray')\n",
    "ax[0].set_title(\"Profile Image (no interference)\")\n",
    "ax[0].axis('off')\n",
    "\n",
    "# Middle: Display the interference image.\n",
    "im1 = ax[1].imshow(interferogram, cmap='gray')\n",
    "ax[1].set_title(\"Interference Image\")\n",
    "ax[1].axis('off')\n",
    "\n",
    "# Right: Display the log Fourier Transform of the interferogram\n",
    "im2 = ax[2].imshow(FT_log, cmap='viridis')\n",
    "ax[2].set_title(\"Fourier Transform (log scale)\")\n",
    "ax[2].axis('off')\n",
    "fig.tight_layout()"
   ]
  },
  {
   "cell_type": "markdown",
   "id": "5fb2958c",
   "metadata": {},
   "source": [
    "As you can see, there are two points that appear close to the center and symmetric manner. Indeed, as the intensity signal at camera is \n",
    "\n",
    "$I_6 = I_3(x,y) + I_4 + \\sqrt(I_3(x,y)I_4)cos(\\Delta \\phi + k_x x + k_y y)$\n",
    " \n",
    "the Fourier transform will have the phase distribution $\\Delta \\phi$ centered around $(k_x, k_y)$ and $(-k_x, k_y)$ due to the cosine term (remember that a cosine is the sum of two symmetric points in the fourier space).\n",
    "\n",
    "You should determine the correct center of the refence in the k-space (e.g. hovering the graph in interactive manner). Determining this point, you should then apply the following operations:\n",
    "\n",
    "<center>\n",
    "<img src=\"MZ/image.png\" class=\"bg-primary\" height=\"200px\"> \n",
    "</center>\n",
    "\n",
    "\n",
    "1. Filter around (kx,ky) by a given radius (e.g. 10).\n",
    "\n",
    "2. Roll the FFT to the center, by applying (-kx,-ky) translation.\n",
    "\n",
    "3. Apply the inverse FFT and plot the recovered phase profile."
   ]
  },
  {
   "cell_type": "code",
   "execution_count": 21,
   "id": "aa3ad7ca",
   "metadata": {},
   "outputs": [
    {
     "data": {
      "application/vnd.jupyter.widget-view+json": {
       "model_id": "6865fc86e8fe451ebbeed7e22ef8db34",
       "version_major": 2,
       "version_minor": 0
      },
      "text/plain": [
       "Canvas(toolbar=Toolbar(toolitems=[('Home', 'Reset original view', 'home', 'home'), ('Back', 'Back to previous …"
      ]
     },
     "metadata": {},
     "output_type": "display_data"
    }
   ],
   "source": [
    "# =============================================================================\n",
    "# Set Up Filter Parameters\n",
    "# ==================================================s===========================\n",
    "radius = 20\n",
    "current_center = [783,475]#[783,476]  # [x, y] in FT (shifted) coordinates\n",
    "\n",
    "Y_ft, X_ft = np.indices((nx, ny))\n",
    "mask = ((X_ft - current_center[0])**2 + (Y_ft - current_center[1])**2) <= radius**2\n",
    "\n",
    "# Apply the circular mask.\n",
    "FT_filtered = FT_hologram * mask\n",
    "\n",
    "# Compute the integer shifts needed to roll the selected center to the Fourier center.\n",
    "shift_x = int(np.round((ny / 2) - current_center[0]))\n",
    "shift_y = int(np.round((nx / 2) - current_center[1]))\n",
    "\n",
    "# Roll the Fourier data: this centers the off-axis component, removing the phase tilt.\n",
    "FT_filtered_rolled = np.roll(FT_filtered, shift=(shift_y, shift_x), axis=(0, 1))\n",
    "\n",
    "# Inverse Fourier transform to reconstruct the complex field.\n",
    "# Unshift the FT before performing the inverse FFT.\n",
    "E_rec = np.fft.ifft2(np.fft.ifftshift(FT_filtered_rolled))\n",
    "\n",
    "reconstructed_phase = np.angle(E_rec)\n",
    "\n",
    "fig, ax = plt.subplots(1, 3, figsize=(10, 4))\n",
    "\n",
    "# Middle: Display the interference image.\n",
    "im1 = ax[0].imshow(profile, cmap='gray')\n",
    "ax[0].set_title(\"Profile Image (no interference)\")\n",
    "ax[0].axis('off')\n",
    "\n",
    "# Middle: Display the filtered interference in Fourier space.\n",
    "im1 = ax[1].imshow(np.log10(1+np.abs(FT_filtered)), cmap='viridis')\n",
    "ax[1].set_title(\"Filtered interferogram\")\n",
    "ax[1].axis('off')\n",
    "\n",
    "# Right: Display the log Fourier Transform of the interferogram\n",
    "im2 = ax[2].imshow(reconstructed_phase, cmap='twilight', interpolation='nearest')\n",
    "ax[2].set_title(r\"$\\phi(x,y)$\")\n",
    "ax[2].axis('off')\n",
    "fig.tight_layout()\n",
    "\n",
    " \n"
   ]
  },
  {
   "cell_type": "markdown",
   "id": "8bb86204",
   "metadata": {},
   "source": [
    "Exercise: **Do the process for all figures obtained (x=1, 2, 3 ) and comment the resulting phase distribution considering that the 1 is a planar wavefront, 2 corresponds to a slab, 3 to a lens**"
   ]
  },
  {
   "cell_type": "markdown",
   "id": "053dbf3a",
   "metadata": {},
   "source": []
  }
 ],
 "metadata": {
  "kernelspec": {
   "display_name": "py36",
   "language": "python",
   "name": "python3"
  },
  "language_info": {
   "codemirror_mode": {
    "name": "ipython",
    "version": 3
   },
   "file_extension": ".py",
   "mimetype": "text/x-python",
   "name": "python",
   "nbconvert_exporter": "python",
   "pygments_lexer": "ipython3",
   "version": "3.6.12"
  }
 },
 "nbformat": 4,
 "nbformat_minor": 5
}
