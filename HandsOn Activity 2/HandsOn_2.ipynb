{
 "cells": [
  {
   "cell_type": "markdown",
   "metadata": {},
   "source": [
    "\n",
    "# Sensors and Signal Analysis 2025\n",
    "Author: Nuno Azevedo Silva\n",
    "\n",
    "### Hands-on activity 2\n",
    "\n",
    "This notebook supports the second Hands-on activity where the students will determine the transfer function and calibrate a real-world sensor. \n",
    "\n",
    "For this we will utilize:\n",
    "\n",
    "---\n",
    "\n",
    "1. **Ultrasonic Distance Sensor**:\n",
    "\n",
    "<img src=\"figs/distance.png\" width=\"600\"/>\n",
    "\n",
    "An ultrasonic distance sensor works by emitting a high-frequency sound wave and measuring the time it takes for the echo to bounce back from an object. Using a microcontroller you send the sound pulse by sending a eletric pulse to the trigger, which then waits for an echo to determine the time delay $\\Delta t$. The distance can be easily calculated as \n",
    "\n",
    " $\\delta =\\frac{\\Delta t}{2}  \\times c_s$ \n",
    " \n",
    "where $c_s \\approx 343 m/s $ is the speed of sound.\n",
    "\n",
    "---\n",
    "\n",
    "2. **Resistance-based Water level sensor**: \n",
    "\n",
    "<img src=\"figs/Water-Level-Sensor-Calibration.png\" width=\"600\"/> \n",
    "\n",
    "A resistance-based water level sensor uses multiple power and sense traces to form a variable resistor (much like a potentiometer). This resistance varies based on how much they are immersed in water(The more water the sensor is immersed in, the better the conductivity and the lower the resistance).\n",
    "\n",
    "---\n",
    "\n",
    "\n",
    "These will be connected to either an Arduino (Distance sensor) or an ESP 32 (water level sensor), two microprocessors that have been pre-programmed accordingly (codes given in microcontroller folder).\n",
    "\n",
    "\n"
   ]
  },
  {
   "cell_type": "markdown",
   "metadata": {},
   "source": [
    "## Auxiliary functions to read data"
   ]
  },
  {
   "cell_type": "code",
   "execution_count": null,
   "metadata": {},
   "outputs": [],
   "source": [
    "import serial\n",
    "import time\n",
    "import numpy as np\n",
    "import matplotlib.pyplot as plt\n",
    "\n",
    "def read_data(ser, number_reads):\n",
    "    #return an array with a given number of reads for an arduino sensor listening serial port ser\n",
    "    data=[]\n",
    "    nreads = 0\n",
    "    while nreads < number_reads:\n",
    "        # Read a line of input from the Arduino\n",
    "        if ser.in_waiting:\n",
    "            line = ser.readline().decode('utf-8',errors='ignore').strip()\n",
    "            if line:\n",
    "                try:\n",
    "                    # Convert the line to a float and print the distance\n",
    "                    sensorread = float(line)\n",
    "                    data.append(sensorread)\n",
    "                    print(f\"Read Value: {sensorread:.2f}\", end='\\r')\n",
    "                    nreads+=1\n",
    "                except ValueError:\n",
    "                    # In case of non-numeric data, print an error message\n",
    "                    print(\"Received invalid data:\", line)\n",
    "    \n",
    "    return np.array(data)\n",
    "\n",
    "\n",
    "def clean_outliers(data, nreads_final):\n",
    "    threshold = 3\n",
    "\n",
    "    clean_data = []\n",
    "\n",
    "    mean = np.mean(data)\n",
    "    std = np.std(data)\n",
    "\n",
    "    for i in data:\n",
    "        z = (i-mean)/std\n",
    "        if z > threshold:\n",
    "            outlier.append(i)\n",
    "\n",
    "    \n",
    "    try:\n",
    "        return clean_data[:nreads_final]\n",
    "    \n",
    "    except:\n",
    "        print('Not Enough Data Points')\n",
    "    \n",
    "    \n"
   ]
  },
  {
   "cell_type": "markdown",
   "metadata": {},
   "source": [
    "# 1. Acquire the data"
   ]
  },
  {
   "cell_type": "code",
   "execution_count": 3,
   "metadata": {},
   "outputs": [],
   "source": [
    "#list to store the stimuli and sensor data for each stimulus\n",
    "stimulus_list = []\n",
    "sensor_data = []"
   ]
  },
  {
   "cell_type": "code",
   "execution_count": 6,
   "metadata": {},
   "outputs": [
    {
     "name": "stdout",
     "output_type": "stream",
     "text": [
      "Read Value: 982.00\r"
     ]
    },
    {
     "data": {
      "text/plain": [
       "Text(0, 0.5, 'Sensor output ($\\\\mu s$)')"
      ]
     },
     "execution_count": 6,
     "metadata": {},
     "output_type": "execute_result"
    },
    {
     "data": {
      "image/png": "[encoded data removed]",
      "text/plain": [
       "<Figure size 600x300 with 1 Axes>"
      ]
     },
     "metadata": {},
     "output_type": "display_data"
    }
   ],
   "source": [
    "# modify to include data\n",
    "stimulus = 75\n",
    "\n",
    "#number of sensor reads to store\n",
    "number_reads = 50\n",
    "\n",
    "#initialize the communication with Arduino (COM3 is the port, may need to change)\n",
    "ser = serial.Serial('COM3', 9600, timeout=1)\n",
    "time.sleep(2)  # Give the connection a moment to initialize\n",
    "\n",
    "data = read_data(ser, number_reads)\n",
    "\n",
    "ser.close()\n",
    "\n",
    "#make an histogram to accept or not the data\n",
    "fig,ax = plt.subplots(figsize=[6,3])\n",
    "ax.plot(data, lw=1,marker='o',markeredgecolor='k')\n",
    "ax.set_xlabel(\"# of read\")\n",
    "ax.set_ylabel('Sensor output ($\\mu s$)') #or arb.un. for water sensor\n",
    "#accept data Y / reject data N"
   ]
  },
  {
   "cell_type": "code",
   "execution_count": 7,
   "metadata": {},
   "outputs": [],
   "source": [
    "stimulus_list.append(stimulus)\n",
    "sensor_data.append(data)"
   ]
  },
  {
   "cell_type": "code",
   "execution_count": 8,
   "metadata": {},
   "outputs": [
    {
     "data": {
      "text/plain": [
       "(2, 50)"
      ]
     },
     "execution_count": 8,
     "metadata": {},
     "output_type": "execute_result"
    }
   ],
   "source": [
    "np.array(sensor_data).shape"
   ]
  },
  {
   "cell_type": "code",
   "execution_count": 9,
   "metadata": {},
   "outputs": [
    {
     "data": {
      "text/plain": [
       "array([55, 75])"
      ]
     },
     "execution_count": 9,
     "metadata": {},
     "output_type": "execute_result"
    }
   ],
   "source": [
    "np.array(stimulus_list)"
   ]
  },
  {
   "cell_type": "code",
   "execution_count": 83,
   "metadata": {},
   "outputs": [],
   "source": [
    "stimulus = np.savetxt('data//stimulusA.txt',np.array(stimulus_list))\n",
    "data_sensorA = np.savetxt('data//data_sensorA.txt',np.array(sensor_data))"
   ]
  },
  {
   "cell_type": "markdown",
   "metadata": {},
   "source": [
    "# 2. Data Analysis\n",
    "\n",
    "Using what you have previously explored in the Jupyter notebook activity try to calibrate your sensor.\n",
    "1. Start by analyzing what should be your estimator;\n",
    "2. Decide on the method to compute the uncertainty;\n",
    "3. Compute the transfer function and characterize your sensor;"
   ]
  },
  {
   "cell_type": "code",
   "execution_count": 84,
   "metadata": {},
   "outputs": [],
   "source": [
    "stimulus = np.loadtxt('data//stimulusA.txt')\n",
    "data_sensorA = np.loadtxt('data//data_sensorA.txt')"
   ]
  },
  {
   "cell_type": "code",
   "execution_count": null,
   "metadata": {},
   "outputs": [],
   "source": []
  }
 ],
 "metadata": {
  "kernelspec": {
   "display_name": "arduino",
   "language": "python",
   "name": "python3"
  },
  "language_info": {
   "codemirror_mode": {
    "name": "ipython",
    "version": 3
   },
   "file_extension": ".py",
   "mimetype": "text/x-python",
   "name": "python",
   "nbconvert_exporter": "python",
   "pygments_lexer": "ipython3",
   "version": "3.7.16"
  }
 },
 "nbformat": 4,
 "nbformat_minor": 2
}
